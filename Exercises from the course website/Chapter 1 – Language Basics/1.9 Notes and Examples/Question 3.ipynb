{
 "cells": [
  {
   "metadata": {},
   "cell_type": "markdown",
   "source": [
    "בסביבה לבחירתכם, כתבו תוכנית הקולטת שני מספרים שלמים המייצגים גובה (height) ורוחב (width) של מלבן, ומדפיסה את ההיקף (perimeter) והשטח (area) שלו, עם רווח ביניהם.\n",
    "\n",
    "\n",
    "\n",
    "דוגמה:\n",
    "\n",
    "עבור גובה 5 ורוחב 2, יודפס:\n",
    "\n",
    "10  14\n",
    "\n",
    "\n",
    "\n",
    "תזכורת:\n",
    "\n",
    "perimeter = 2*height + 2*width\n",
    "\n",
    "area = width*height\n",
    "\n",
    "\n",
    "\n",
    "רמז: זהו סדר הפעולות הנדרש\n",
    "\n",
    "\n",
    "\n",
    "הוסיפו תיעוד (הערות) לתוכנית שלכם. הריצו את התוכנית כאשר הקלט הראשון (גובה) הוא 3, והקלט השני (רוחב) הוא 4. מהי ההדפסה שמתקבלת?\n",
    "\n"
   ],
   "id": "493f551dd9463e01"
  },
  {
   "metadata": {
    "ExecuteTime": {
     "end_time": "2025-03-08T13:45:32.150119Z",
     "start_time": "2025-03-08T13:45:27.607985Z"
    }
   },
   "cell_type": "code",
   "source": [
    "# accept height and width\n",
    "height = int(input(\"Please enter height: \"))\n",
    "width = int(input(\"Please enter width: \"))\n",
    "# calculate perimeter and area\n",
    "perimeter = 2*height + 2*width\n",
    "area = width*height\n",
    "# print perimeter and area\n",
    "print(perimeter,area)"
   ],
   "id": "bc189f6572fed9c0",
   "outputs": [
    {
     "name": "stdout",
     "output_type": "stream",
     "text": [
      "14 12\n"
     ]
    }
   ],
   "execution_count": 4
  }
 ],
 "metadata": {
  "kernelspec": {
   "display_name": "Python 3",
   "language": "python",
   "name": "python3"
  },
  "language_info": {
   "codemirror_mode": {
    "name": "ipython",
    "version": 2
   },
   "file_extension": ".py",
   "mimetype": "text/x-python",
   "name": "python",
   "nbconvert_exporter": "python",
   "pygments_lexer": "ipython2",
   "version": "2.7.6"
  }
 },
 "nbformat": 4,
 "nbformat_minor": 5
}
