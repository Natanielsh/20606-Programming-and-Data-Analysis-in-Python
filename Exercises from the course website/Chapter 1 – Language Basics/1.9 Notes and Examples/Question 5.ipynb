{
 "cells": [
  {
   "metadata": {},
   "cell_type": "raw",
   "source": [
    "שאלה 5\n",
    "המטבעות העומדים לרשותכם הם : 10 ₪, 5 ₪, 1 ₪.\n",
    "\n",
    "בסביבה לבחירתכם, כתבו תוכנית הקולטת מהמשתמש את הסכום הרצוי (בש\"ח) ומדפיסה את המרתו למספר מינימלי של מטבעות.\n",
    "\n",
    "\n",
    "\n",
    " לדוגמה, עבור הסכום 37 ש\"ח, הפלט יהיה:\n",
    "\n",
    "We need 3 coins of 10 NIS\n",
    "\n",
    "We need 1 coins of 5 NIS\n",
    "\n",
    "We need 2 coins of 1 NIS\n",
    "\n",
    "\n",
    "\n",
    "\n",
    "לחצו לקבלת רמז\n",
    "\n",
    "הוסיפו תיעוד (הערות) לתוכנית שלכם. הריצו את התוכנית כאשר הקלט הוא 129 ש\"ח. מהי ההדפסה שמתקבלת? השלימו:\n",
    "\n"
   ],
   "id": "16765267bb0e9510"
  },
  {
   "metadata": {
    "ExecuteTime": {
     "end_time": "2025-03-08T13:54:01.729235Z",
     "start_time": "2025-03-08T13:54:01.718395Z"
    }
   },
   "cell_type": "code",
   "source": [
    "# accept price\n",
    "price  = int(input(\"Please enter the price in shekels: \"));\n",
    "# calculate and print 10s\n",
    "amount = price // 10;\n",
    "price = price % 10;\n",
    "print(\"We need\", amount, \"coins of 10 NIS\");\n",
    "# calculate and print 5s\n",
    "amount = price // 5;\n",
    "price = price % 5;\n",
    "print(\"We need\", amount, \"coins of 5 NIS\");\n",
    "# calculate and print 1s\n",
    "amount = price // 1;\n",
    "price = price % 1;\n",
    "print(\"We need\", amount, \"coins of 1 NIS\");\n"
   ],
   "id": "6715c94ba6a8bb2e",
   "outputs": [
    {
     "name": "stdout",
     "output_type": "stream",
     "text": [
      "12 23 94\n"
     ]
    }
   ],
   "execution_count": 10
  }
 ],
 "metadata": {
  "kernelspec": {
   "display_name": "Python 3",
   "language": "python",
   "name": "python3"
  },
  "language_info": {
   "codemirror_mode": {
    "name": "ipython",
    "version": 2
   },
   "file_extension": ".py",
   "mimetype": "text/x-python",
   "name": "python",
   "nbconvert_exporter": "python",
   "pygments_lexer": "ipython2",
   "version": "2.7.6"
  }
 },
 "nbformat": 4,
 "nbformat_minor": 5
}
