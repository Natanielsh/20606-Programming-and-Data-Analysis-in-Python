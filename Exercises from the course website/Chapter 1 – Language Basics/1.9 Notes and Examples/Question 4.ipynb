{
 "cells": [
  {
   "metadata": {},
   "cell_type": "markdown",
   "source": [
    "בסביבה לבחירתכם, כתבו תוכנית הקולטת מהמשתמש מספר תלת־ספרתי ומדפיסה את ספרת האחדות, העשרות והמאות, עם פסיק ביניהן.\n",
    "\n",
    "דוגמה:\n",
    "\n",
    "עבור הקלט 385, יודפס:\n",
    "\n",
    "5,8,3\n",
    "\n",
    "לחצו לקבלת רמז\n",
    "\n",
    "הוסיפו תיעוד (הערות) לתוכנית שלכם. הריצו את התוכנית כאשר הקלט הוא 756. מהי ההדפסה שמתקבלת?\n",
    "\n",
    "ההדפסה שמתקבלת: תשובה\n",
    "6,5,7\n"
   ],
   "id": "48de007ef9fc5702"
  },
  {
   "metadata": {},
   "cell_type": "markdown",
   "source": "",
   "id": "bd82285ce8df9c65"
  },
  {
   "metadata": {
    "ExecuteTime": {
     "end_time": "2025-03-08T13:47:09.043269Z",
     "start_time": "2025-03-08T13:47:04.466558Z"
    }
   },
   "cell_type": "code",
   "source": [
    "# accept three digits number\n",
    "num = int(input(\"Please enter three digits number: \"))\n",
    "# print ones, tens and hundreds with a comma )“,”( as a separator\n",
    "print(num % 10, num // 10 % 10, num // 100, sep = \",\")"
   ],
   "id": "fc4ce7ce277d41bc",
   "outputs": [
    {
     "name": "stdout",
     "output_type": "stream",
     "text": [
      "5,7,3\n"
     ]
    }
   ],
   "execution_count": 1
  }
 ],
 "metadata": {
  "kernelspec": {
   "display_name": "Python 3",
   "language": "python",
   "name": "python3"
  },
  "language_info": {
   "codemirror_mode": {
    "name": "ipython",
    "version": 2
   },
   "file_extension": ".py",
   "mimetype": "text/x-python",
   "name": "python",
   "nbconvert_exporter": "python",
   "pygments_lexer": "ipython2",
   "version": "2.7.6"
  }
 },
 "nbformat": 4,
 "nbformat_minor": 5
}
