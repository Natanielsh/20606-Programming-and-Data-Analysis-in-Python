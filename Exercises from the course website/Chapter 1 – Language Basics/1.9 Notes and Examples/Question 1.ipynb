{
 "cells": [
  {
   "metadata": {},
   "cell_type": "raw",
   "source": [
    "שאלה 1\n",
    "בכל אחד מהסעיפים שלהלן, סמנו מהי השגיאה בתוכנית."
   ],
   "id": "6a8f1246c24ad091"
  },
  {
   "metadata": {},
   "cell_type": "code",
   "outputs": [],
   "execution_count": null,
   "source": [
    "accept first integer\n",
    "x = int(input(\"Please enter first Integer: \"))\n",
    "accept second integer\n",
    "y = int(input(\"Please enter second Integer: \"))\n",
    "calculate addition\n",
    "add = x + y\n",
    "print\n",
    "print(add)"
   ],
   "id": "6eee6a7336be6807"
  },
  {
   "metadata": {},
   "cell_type": "code",
   "outputs": [],
   "execution_count": null,
   "source": [
    "# accept first integer\n",
    "x = input(\"Please enter first Integer: \")\n",
    "# accept second integer\n",
    "y = input(\"Please enter second Integer: \")\n",
    "# calculate multiplication\n",
    "mul = x * y\n",
    "# print\n",
    "print(mul)"
   ],
   "id": "a3876b30bce4f152"
  },
  {
   "metadata": {},
   "cell_type": "code",
   "outputs": [],
   "execution_count": null,
   "source": [
    "str = \"Python\"\n",
    "print(str[-10])"
   ],
   "id": "aa2399e6405ad501"
  },
  {
   "metadata": {},
   "cell_type": "code",
   "outputs": [],
   "execution_count": null,
   "source": "print (\"Dog\", \"Cat\", \"Bunny\", end=.)",
   "id": "7fd6d2a71d1494ee"
  },
  {
   "metadata": {},
   "cell_type": "code",
   "outputs": [],
   "execution_count": null,
   "source": [
    "word1 = \"ababab\"\n",
    "word2 = \"ab\"\n",
    "print (word1 / word2)"
   ],
   "id": "fca101fcdc557163"
  },
  {
   "metadata": {},
   "cell_type": "code",
   "outputs": [],
   "execution_count": null,
   "source": [
    "word = encyclopedia\n",
    "print (word[-1])"
   ],
   "id": "8122e552272c0307"
  },
  {
   "metadata": {},
   "cell_type": "code",
   "outputs": [],
   "execution_count": null,
   "source": [
    "if = \"Yes\"\n",
    "print(if)"
   ],
   "id": "f39422246c5347db"
  },
  {
   "metadata": {},
   "cell_type": "code",
   "outputs": [],
   "execution_count": null,
   "source": [
    "word = \"python\"\n",
    "type (word)"
   ],
   "id": "c7a3cda7f8d31f93"
  },
  {
   "metadata": {},
   "cell_type": "code",
   "outputs": [],
   "execution_count": null,
   "source": [
    "age = int(input(\"Please enter your age: \"))\n",
    "if age > 0:\n",
    "print(\"Thank you!\")\n",
    "else:\n",
    "print(\"age must be positive\")"
   ],
   "id": "3cbaebd0c0d7525a"
  },
  {
   "metadata": {},
   "cell_type": "code",
   "outputs": [],
   "execution_count": null,
   "source": [
    "‘This program checks if second word\n",
    "is contained in first word’\n",
    "str1 = \"Python\"\n",
    "str2 = \"p\"\n",
    "print (str2 in str1)"
   ],
   "id": "fe97f4ec6392849f"
  }
 ],
 "metadata": {
  "kernelspec": {
   "display_name": "Python 3",
   "language": "python",
   "name": "python3"
  },
  "language_info": {
   "codemirror_mode": {
    "name": "ipython",
    "version": 2
   },
   "file_extension": ".py",
   "mimetype": "text/x-python",
   "name": "python",
   "nbconvert_exporter": "python",
   "pygments_lexer": "ipython2",
   "version": "2.7.6"
  }
 },
 "nbformat": 4,
 "nbformat_minor": 5
}
