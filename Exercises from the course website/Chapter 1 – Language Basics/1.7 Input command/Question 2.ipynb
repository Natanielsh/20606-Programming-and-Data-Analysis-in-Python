{
 "cells": [
  {
   "metadata": {},
   "cell_type": "raw",
   "source": [
    "סעיף א\n",
    "כתבו במחברת תוכנית הקולטת שני מספרים שלמים ומדפיסה את תוצאת הכפל ביניהם. הריצו את התוכנית עם המספר 3451 כקלט ראשון, ו־7856 כקלט שני. מהי ההדפסה שמתקבלת?"
   ],
   "id": "c9c96cd1764e01dd"
  },
  {
   "metadata": {
    "ExecuteTime": {
     "end_time": "2025-03-08T12:07:27.871793Z",
     "start_time": "2025-03-08T12:07:17.334329Z"
    }
   },
   "cell_type": "code",
   "source": [
    "num1 = int(input(\"Enter First Number: \"))\n",
    "num2 = int(input(\"Enter Second Number: \"))\n",
    "print(num1*num2)"
   ],
   "id": "e89d1f8dc5008eba",
   "outputs": [
    {
     "name": "stdout",
     "output_type": "stream",
     "text": [
      "27111056.0\n"
     ]
    }
   ],
   "execution_count": 1
  },
  {
   "metadata": {},
   "cell_type": "markdown",
   "source": "כתבו במחברת תוכנית הקולטת שני מספרים ממשיים ומדפיסה את ההפרש בין המספר הראשון למספר השני. הריצו את התוכנית עם המספר 345.54 כקלט ראשון ו־79.94 כקלט שני. מהי ההדפסה שמתקבלת?",
   "id": "312666d01fa7b051"
  },
  {
   "metadata": {
    "ExecuteTime": {
     "end_time": "2025-03-08T12:09:16.992327Z",
     "start_time": "2025-03-08T12:09:08.834925Z"
    }
   },
   "cell_type": "code",
   "source": [
    "num1 = float(input(\"Enter First Number: \"))\n",
    "num2 = float(input(\"Enter Second Number: \"))\n",
    "print(num1-num2)"
   ],
   "id": "b22644a7f8cba39f",
   "outputs": [
    {
     "name": "stdout",
     "output_type": "stream",
     "text": [
      "265.6\n"
     ]
    }
   ],
   "execution_count": 2
  },
  {
   "metadata": {},
   "cell_type": "markdown",
   "source": [
    "כתבו במחברת תוכנית הקולטת חמישה ציונים שלמים ומדפיסה את הממוצע שלהם. הריצו את התוכנית עם הציונים 82, 100, 97, 98, 100. מהי ההדפסה שמתקבלת?\n",
    "\n"
   ],
   "id": "5d81b497f0fb6a79"
  },
  {
   "metadata": {
    "ExecuteTime": {
     "end_time": "2025-03-08T12:10:48.431505Z",
     "start_time": "2025-03-08T12:10:33.854048Z"
    }
   },
   "cell_type": "code",
   "source": [
    "num1 = int(input(\"Enter First Number: \"))\n",
    "num2 = int(input(\"Enter Second Number: \"))\n",
    "num3 = int(input(\"Enter Third Number: \"))\n",
    "num4 = int(input(\"Enter Fourth Number: \"))\n",
    "num5 = int(input(\"Enter Fifth Number: \"))\n",
    "print((num1+num2+num3+num4+num5)/5)"
   ],
   "id": "9ad1ec722e1989ce",
   "outputs": [
    {
     "name": "stdout",
     "output_type": "stream",
     "text": [
      "95.4\n"
     ]
    }
   ],
   "execution_count": 3
  },
  {
   "metadata": {},
   "cell_type": "markdown",
   "source": [
    "שי מעוניין לקחת הלוואה מהבנק ולהחזיר אותה בכל חודש, במשך שנה. כתבו תוכנית הקולטת את סכום ההלוואה מהבנק (מספר שלם), ומדפיסה את סכום ההחזר החודשי (הסכום שיידרש שי להחזיר לבנק בכל חודש, במשך שנה). הריצו את התוכנית עם סכום הלוואה 63,606. מהי ההדפסה שמתקבלת?\n",
    "\n"
   ],
   "id": "7568401d88ecbb54"
  },
  {
   "metadata": {
    "ExecuteTime": {
     "end_time": "2025-03-08T12:13:51.227219Z",
     "start_time": "2025-03-08T12:13:45.312251Z"
    }
   },
   "cell_type": "code",
   "source": [
    "LoanAmount = int(input(\"Enter Loan Amount: \"))\n",
    "print(LoanAmount/12)"
   ],
   "id": "eadbcb8c7186353f",
   "outputs": [
    {
     "name": "stdout",
     "output_type": "stream",
     "text": [
      "5300.5\n"
     ]
    }
   ],
   "execution_count": 4
  },
  {
   "metadata": {},
   "cell_type": "markdown",
   "source": "שי הגיע לבנק כדי לקחת הלוואה, וגילה שעליו לשלם ריבית של 4% על סכום ההלוואה. כתבו תוכנית הקולטת את סכום ההלוואה מהבנק (מספר שלם), ומדפיסה את סכום ההחזר החודשי הכולל ריבית של 4%. הריצו את התוכנית עם סכום הלוואה 63,606. מהי ההדפסה שמתקבלת?",
   "id": "da818f9f5e01a534"
  },
  {
   "metadata": {
    "ExecuteTime": {
     "end_time": "2025-03-08T12:15:02.044202Z",
     "start_time": "2025-03-08T12:14:55.968891Z"
    }
   },
   "cell_type": "code",
   "source": [
    "LoanAmount = int(input(\"Enter Loan Amount: \"))\n",
    "monthly = (LoanAmount*1.04) / 12\n",
    "print(monthly)\n"
   ],
   "id": "adc38eee65ebf076",
   "outputs": [
    {
     "name": "stdout",
     "output_type": "stream",
     "text": [
      "5512.52\n"
     ]
    }
   ],
   "execution_count": 5
  }
 ],
 "metadata": {
  "kernelspec": {
   "display_name": "Python 3",
   "language": "python",
   "name": "python3"
  },
  "language_info": {
   "codemirror_mode": {
    "name": "ipython",
    "version": 2
   },
   "file_extension": ".py",
   "mimetype": "text/x-python",
   "name": "python",
   "nbconvert_exporter": "python",
   "pygments_lexer": "ipython2",
   "version": "2.7.6"
  }
 },
 "nbformat": 4,
 "nbformat_minor": 5
}
