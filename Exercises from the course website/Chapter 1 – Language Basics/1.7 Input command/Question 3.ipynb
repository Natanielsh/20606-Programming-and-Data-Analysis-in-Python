{
 "cells": [
  {
   "metadata": {},
   "cell_type": "markdown",
   "source": "כתבו במחברת תוכנית הקולטת שתי מחרוזות (בנפרד) ומדפיסה אותן באותה השורה, עם פסיק ביניהן. הריצו את התוכנית עם המחרוזת \"Hello\" כקלט ראשון, ו־\"World\" כקלט שני. מהי ההדפסה שמתקבלת?",
   "id": "ffa43f49a7f1cca6"
  },
  {
   "metadata": {
    "ExecuteTime": {
     "end_time": "2025-03-08T12:17:54.507614Z",
     "start_time": "2025-03-08T12:17:45.143898Z"
    }
   },
   "cell_type": "code",
   "source": [
    "first = input(\"Enter first string:\")\n",
    "second = input(\"Enter second string:\")\n",
    "print(first + \",\" + second)"
   ],
   "id": "6e9f32d5ec9ce7e2",
   "outputs": [
    {
     "name": "stdout",
     "output_type": "stream",
     "text": [
      "Hello,World\n"
     ]
    }
   ],
   "execution_count": 3
  },
  {
   "metadata": {},
   "cell_type": "markdown",
   "source": [
    "סעיף ב\n",
    "כתבו במחברת תוכנית המברכת לשלום מטופל בקופת חולים. התוכנית תקלוט מחרוזת לתוך המשתנה name ולאחר מכן מספר שלם לתוך המשתנה number, ותדפיס את המחרוזת:\n",
    "\"Hello {name}, you are {number} in line\"\n",
    "כאשר {name} מייצג את שם המטופל שנקלט, ו־{number} מייצג את מספרו בתור לטיפול.\n",
    "הריצו את התוכנית עם המחרוזת \"Tamar\" כקלט ראשון, והמספר 5 כקלט שני. מהי ההדפסה שמתקבלת?\n"
   ],
   "id": "cfeadd24a6ba6bfb"
  },
  {
   "metadata": {
    "ExecuteTime": {
     "end_time": "2025-03-08T12:19:07.659229Z",
     "start_time": "2025-03-08T12:19:01.125427Z"
    }
   },
   "cell_type": "code",
   "source": [
    "name = input(\"Enter your name:\")\n",
    "number = input(\"Enter your number:\")\n",
    "print(f\"Hello {name}, you are {number} in line\")"
   ],
   "id": "4908127b6a338662",
   "outputs": [
    {
     "name": "stdout",
     "output_type": "stream",
     "text": [
      "Hello Tamar, you are 5 in line\n"
     ]
    }
   ],
   "execution_count": 5
  },
  {
   "metadata": {},
   "cell_type": "markdown",
   "source": [
    "סעיף ג\n",
    "כתבו במחברת תוכנית הקולטת שלוש מחרוזות (בנפרד), לתוך המשתנים first, second, third בהתאמה. התוכנית תדפיס את המחרוזת:\n",
    "\"My favorite hobby is {first}. I also like {second} and {third}\"\n",
    "כאשר {first}, {second}, {third} מייצגים את המחרוזות שנקלטו.\n",
    "הריצו את התוכנית עם המחרוזת \"running\" כקלט ראשון, \"swimming\" כקלט שני, ו־\"soccer\" כקלט שלישי. מהי ההדפסה שמתקבלת?"
   ],
   "id": "e170f0ac97bca57b"
  },
  {
   "metadata": {
    "ExecuteTime": {
     "end_time": "2025-03-08T12:20:01.620861Z",
     "start_time": "2025-03-08T12:19:50.715759Z"
    }
   },
   "cell_type": "code",
   "source": [
    "first = input(\"Enter first string:\")\n",
    "second = input(\"Enter second string:\")\n",
    "third = input(\"Enter third string:\")\n",
    "print(f'My favorite hobby is {first}. I also like {second} and {third}')"
   ],
   "id": "7819f96ad5e8fdae",
   "outputs": [
    {
     "name": "stdout",
     "output_type": "stream",
     "text": [
      "\"My favorite hobby is running. I also like swimming and soccer\"\n"
     ]
    }
   ],
   "execution_count": 6
  }
 ],
 "metadata": {
  "kernelspec": {
   "display_name": "Python 3",
   "language": "python",
   "name": "python3"
  },
  "language_info": {
   "codemirror_mode": {
    "name": "ipython",
    "version": 2
   },
   "file_extension": ".py",
   "mimetype": "text/x-python",
   "name": "python",
   "nbconvert_exporter": "python",
   "pygments_lexer": "ipython2",
   "version": "2.7.6"
  }
 },
 "nbformat": 4,
 "nbformat_minor": 5
}
