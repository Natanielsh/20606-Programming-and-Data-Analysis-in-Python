{
 "cells": [
  {
   "metadata": {},
   "cell_type": "raw",
   "source": [
    "שאלה 1\n",
    "תוכן השאלה\n",
    "סעיף א\n",
    "ברצוננו לכתוב תוכנית הקולטת שלושה מספרים שלמים ומדפיסה את סכומם. בחרו את התוכניות שיבצעו את הנדרש:\n",
    "\n",
    "יש לבחור תשובה אחת או יותר:"
   ],
   "id": "611f1a2c2f52fc47"
  },
  {
   "metadata": {},
   "cell_type": "code",
   "outputs": [],
   "execution_count": null,
   "source": [
    "num = int(input(\"Please enter number: \"))\n",
    "num = int(input(\"Please enter number: \"))\n",
    "num = int(input(\"Please enter number: \"))\n",
    "print (num + num + num)\n"
   ],
   "id": "eed1b56ea434d56a"
  },
  {
   "metadata": {},
   "cell_type": "code",
   "outputs": [],
   "execution_count": null,
   "source": [
    "x = int(input(\"Please enter number: \"))\n",
    "y = int(input(\"Please enter number: \"))\n",
    "z = int(input(\"Please enter number: \"))\n",
    "print (x + y + z)"
   ],
   "id": "3b5c2bd6b8d877b3"
  },
  {
   "metadata": {},
   "cell_type": "code",
   "outputs": [],
   "execution_count": null,
   "source": [
    "x = input(\"Please enter number: \")\n",
    "y = input(\"Please enter number: \")\n",
    "z = input(\"Please enter number: \")\n",
    "print (x + y + z)"
   ],
   "id": "fda5f42ff2cc4660"
  },
  {
   "metadata": {},
   "cell_type": "code",
   "outputs": [],
   "execution_count": null,
   "source": [
    "num = int(input(\"Please enter number: \"))\n",
    "num += int(input(\"Please enter number: \"))\n",
    "num += int(input(\"Please enter number: \"))\n",
    "print (num)"
   ],
   "id": "e70000585e867733"
  },
  {
   "metadata": {},
   "cell_type": "markdown",
   "source": [
    "\n",
    "ברצוננו לכתוב תוכנית הקולטת את מחירו המקורי של מוצר ואת ההנחה עליו באחוזים בתקופת מבצעים. התוכנית מדפיסה את מחיר המוצר לאחר ההנחה. בחרו את התוכניות שיבצעו את הנדרש:\n"
   ],
   "id": "a9c45f929dccb11b"
  },
  {
   "metadata": {},
   "cell_type": "code",
   "outputs": [],
   "execution_count": null,
   "source": [
    "price = float(input(\"Please enter price: \"))\n",
    "discount = float(input(\"Please enter discount: \"))\n",
    "price = price * (discount) / 100\n",
    "print (price)"
   ],
   "id": "b97744b3a123d6e7"
  },
  {
   "metadata": {},
   "cell_type": "code",
   "outputs": [],
   "execution_count": null,
   "source": [
    "price = input(\"Please enter price: \")\n",
    "discount = input(\"Please enter discount: \")\n",
    "price = price * (100 - discount) / 100\n",
    "print (price)"
   ],
   "id": "b46009894101d71c"
  },
  {
   "metadata": {},
   "cell_type": "code",
   "outputs": [],
   "execution_count": null,
   "source": [
    "price = int(input(\"Please enter price: \"))\n",
    "discount = int(input(\"Please enter discount: \"))\n",
    "price = price * (100 - discount) / 100\n",
    "print (price)"
   ],
   "id": "7eac6d05e1ed2842"
  },
  {
   "metadata": {},
   "cell_type": "code",
   "outputs": [],
   "execution_count": null,
   "source": [
    "price = float(input(\"Please enter price: \"))\n",
    "discount = float(input(\"Please enter discount: \"))\n",
    "price = price * (100 - discount) / 100\n",
    "print (price)"
   ],
   "id": "4fd6672bf08dba83"
  },
  {
   "metadata": {},
   "cell_type": "markdown",
   "source": [
    "\n",
    "ברצוננו לכתוב תוכנית הקולטת טמפרטורה. התוכנית מדפיסה \"Cold\" אם הטמפרטורה מתחת ל-15 מעלות, ו-\"Hot\" אם הטמפרטורה מעל 30 מעלות. בחרו את התוכניות שיבצעו את הנדרש:"
   ],
   "id": "a43c9c265df4d808"
  },
  {
   "metadata": {},
   "cell_type": "code",
   "outputs": [],
   "execution_count": null,
   "source": [
    "temp = int(input(\"Please enter temperature\"))\n",
    "print(\"Cold\")\n",
    "print(\"Hot\")"
   ],
   "id": "4c6b30548ddb30c3"
  },
  {
   "metadata": {},
   "cell_type": "code",
   "outputs": [],
   "execution_count": null,
   "source": [
    "temp = float(input(\"Please enter temperature\"))\n",
    "if temp < 15:\n",
    "    print(\"Cold\")\n",
    "if temp > 30:\n",
    "    print(\"Hot\")"
   ],
   "id": "d997f3b8edd10cdf"
  },
  {
   "metadata": {},
   "cell_type": "code",
   "outputs": [],
   "execution_count": null,
   "source": [
    "temp = float(input(\"Please enter temperature\"))\n",
    "if temp > 30:\n",
    "    print(\"Hot\")\n",
    "if temp < 15:\n",
    "    print(\"Cold\")"
   ],
   "id": "fca3975fef344b8c"
  },
  {
   "metadata": {},
   "cell_type": "code",
   "outputs": [],
   "execution_count": null,
   "source": [
    "temp = input(\"Please enter temperature\")\n",
    "if temp < 15:\n",
    "    print(\"Cold\")\n",
    "if temp > 30:\n",
    "    print(\"Hot\")"
   ],
   "id": "f14383dc5591652b"
  },
  {
   "metadata": {},
   "cell_type": "markdown",
   "source": "",
   "id": "3820fda476c494c4"
  }
 ],
 "metadata": {
  "kernelspec": {
   "display_name": "Python 3",
   "language": "python",
   "name": "python3"
  },
  "language_info": {
   "codemirror_mode": {
    "name": "ipython",
    "version": 2
   },
   "file_extension": ".py",
   "mimetype": "text/x-python",
   "name": "python",
   "nbconvert_exporter": "python",
   "pygments_lexer": "ipython2",
   "version": "2.7.6"
  }
 },
 "nbformat": 4,
 "nbformat_minor": 5
}
