{
 "cells": [
  {
   "metadata": {},
   "cell_type": "raw",
   "source": [
    "עבור כל אחד מהסעיפים שלהלן, כתבו מה תדפיס הפקודה print.\n",
    "שאלה 1"
   ],
   "id": "7d31f9f73523b727"
  },
  {
   "metadata": {},
   "cell_type": "code",
   "outputs": [],
   "execution_count": null,
   "source": [
    "word = \"python\"\n",
    "print (word[0])"
   ],
   "id": "94137b8b8d196ecb"
  },
  {
   "metadata": {},
   "cell_type": "markdown",
   "source": "סעיף ב",
   "id": "c721210e297d1c79"
  },
  {
   "metadata": {},
   "cell_type": "code",
   "outputs": [],
   "execution_count": null,
   "source": [
    "word = \"python\"\n",
    "print (word[3])"
   ],
   "id": "6514128da942d3e1"
  },
  {
   "metadata": {},
   "cell_type": "markdown",
   "source": "סעיף ג\n",
   "id": "efa008e85098c6bb"
  },
  {
   "metadata": {},
   "cell_type": "code",
   "outputs": [],
   "execution_count": null,
   "source": [
    "word = \"python\"\n",
    "length = len(word)\n",
    "print (length)"
   ],
   "id": "2a2100066c38dd80"
  },
  {
   "metadata": {},
   "cell_type": "markdown",
   "source": "סעיף ד\n",
   "id": "17139c0222be2260"
  },
  {
   "metadata": {
    "ExecuteTime": {
     "end_time": "2025-03-08T09:28:56.674979Z",
     "start_time": "2025-03-08T09:28:56.666295Z"
    }
   },
   "cell_type": "code",
   "source": [
    "word = \"python\"\n",
    "print (word[-2])"
   ],
   "id": "2db75e6bfb006ec1",
   "outputs": [
    {
     "name": "stdout",
     "output_type": "stream",
     "text": [
      "o\n"
     ]
    }
   ],
   "execution_count": 1
  },
  {
   "metadata": {},
   "cell_type": "markdown",
   "source": "סעיף ה\n",
   "id": "f7b8dd1a8ad16cd5"
  },
  {
   "metadata": {},
   "cell_type": "code",
   "outputs": [],
   "execution_count": null,
   "source": [
    "word = \"python\"\n",
    "print (word[1:4])"
   ],
   "id": "b08e4672ad83992c"
  },
  {
   "metadata": {},
   "cell_type": "markdown",
   "source": "סעיף ו",
   "id": "c28770c8fc7406d6"
  },
  {
   "metadata": {},
   "cell_type": "code",
   "outputs": [],
   "execution_count": null,
   "source": [
    "word = \"python\"\n",
    "print (word[-6:-2])"
   ],
   "id": "83c2365b99875b08"
  },
  {
   "metadata": {},
   "cell_type": "markdown",
   "source": "סעיף ז\n",
   "id": "15a7387448f76d18"
  },
  {
   "metadata": {
    "ExecuteTime": {
     "end_time": "2025-03-08T09:30:40.915871Z",
     "start_time": "2025-03-08T09:30:40.911453Z"
    }
   },
   "cell_type": "code",
   "source": [
    "word = \"hello\"\n",
    "word = word + \" world\"\n",
    "multiple = word[-1] * 2\n",
    "print (multiple)"
   ],
   "id": "d5d033d4b88e8a67",
   "outputs": [
    {
     "name": "stdout",
     "output_type": "stream",
     "text": [
      "dd\n"
     ]
    }
   ],
   "execution_count": 4
  },
  {
   "metadata": {},
   "cell_type": "markdown",
   "source": "סעיף ח\n",
   "id": "9124b1142a5dbbb5"
  },
  {
   "metadata": {
    "ExecuteTime": {
     "end_time": "2025-03-08T09:31:07.383635Z",
     "start_time": "2025-03-08T09:31:07.377465Z"
    }
   },
   "cell_type": "code",
   "source": [
    "word = \"python\"\n",
    "word = word[2:4]\n",
    "word *= 3\n",
    "print (word)"
   ],
   "id": "614ca647cb8f69d9",
   "outputs": [
    {
     "name": "stdout",
     "output_type": "stream",
     "text": [
      "ththth\n"
     ]
    }
   ],
   "execution_count": 5
  },
  {
   "metadata": {},
   "cell_type": "markdown",
   "source": "סעיף ט\n",
   "id": "6abb59712d87a7ef"
  },
  {
   "metadata": {
    "ExecuteTime": {
     "end_time": "2025-03-08T09:33:06.887190Z",
     "start_time": "2025-03-08T09:33:06.881670Z"
    }
   },
   "cell_type": "code",
   "source": [
    "num = \"10\"\n",
    "multiple = int(num) * 2\n",
    "print (multiple)"
   ],
   "id": "5a97448db1da62e6",
   "outputs": [
    {
     "name": "stdout",
     "output_type": "stream",
     "text": [
      "20\n"
     ]
    }
   ],
   "execution_count": 6
  },
  {
   "metadata": {},
   "cell_type": "markdown",
   "source": "סעיף י\n",
   "id": "fe8a8dc77401c47d"
  },
  {
   "metadata": {
    "ExecuteTime": {
     "end_time": "2025-03-08T09:33:25.265527Z",
     "start_time": "2025-03-08T09:33:25.261335Z"
    }
   },
   "cell_type": "code",
   "source": [
    "temp = 'Temperature is 19 degrees'\n",
    "temp = float(temp[-10:-8])\n",
    "print (temp)\n"
   ],
   "id": "ce6321c353afe83e",
   "outputs": [
    {
     "name": "stdout",
     "output_type": "stream",
     "text": [
      "19.0\n"
     ]
    }
   ],
   "execution_count": 7
  }
 ],
 "metadata": {
  "kernelspec": {
   "display_name": "Python 3",
   "language": "python",
   "name": "python3"
  },
  "language_info": {
   "codemirror_mode": {
    "name": "ipython",
    "version": 2
   },
   "file_extension": ".py",
   "mimetype": "text/x-python",
   "name": "python",
   "nbconvert_exporter": "python",
   "pygments_lexer": "ipython2",
   "version": "2.7.6"
  }
 },
 "nbformat": 4,
 "nbformat_minor": 5
}
