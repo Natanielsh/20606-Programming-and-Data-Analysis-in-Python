{
 "cells": [
  {
   "metadata": {},
   "cell_type": "markdown",
   "source": [
    "שאלה 3\n",
    "עבור כל אחד מהסעיפים שלהלן, בחרו מה תדפיס הפקודה print.\n",
    "סעיף א"
   ],
   "id": "458a5b7335e1d710"
  },
  {
   "metadata": {},
   "cell_type": "code",
   "outputs": [],
   "execution_count": null,
   "source": [
    "str1 = \"Python\"\n",
    "str2 = \"on\"\n",
    "print (str2 in str1)"
   ],
   "id": "c5b0a99ab29e2e90"
  },
  {
   "metadata": {},
   "cell_type": "markdown",
   "source": "סעיף ב\n",
   "id": "2c689e896805a8d"
  },
  {
   "metadata": {},
   "cell_type": "code",
   "outputs": [],
   "execution_count": null,
   "source": [
    "str1 = \"Python\"\n",
    "str2 = \"on\"\n",
    "print (str1 in str2)"
   ],
   "id": "990cacdd8af56b66"
  },
  {
   "metadata": {},
   "cell_type": "markdown",
   "source": "סעיף ג\n",
   "id": "76ea28134377a2ce"
  },
  {
   "metadata": {},
   "cell_type": "code",
   "outputs": [],
   "execution_count": null,
   "source": [
    "str1 = \"Python\"\n",
    "str2 = \"Python\"\n",
    "print (str1 in str2)"
   ],
   "id": "8dd60486d4cac7aa"
  },
  {
   "metadata": {},
   "cell_type": "markdown",
   "source": "סעיף ד\n",
   "id": "47f6522138dc222a"
  },
  {
   "metadata": {},
   "cell_type": "code",
   "outputs": [],
   "execution_count": null,
   "source": [
    "str1 = \"python\"\n",
    "str2 = \"Python\"\n",
    "print (str2 in str1)"
   ],
   "id": "926c83fb608572dd"
  },
  {
   "metadata": {},
   "cell_type": "markdown",
   "source": "סעיף ה",
   "id": "e435402d61424e11"
  },
  {
   "metadata": {},
   "cell_type": "code",
   "outputs": [],
   "execution_count": null,
   "source": [
    "str1 = \"Python\"\n",
    "str2 = \"no\"\n",
    "print (str2 in str1)"
   ],
   "id": "755402d83ed067c5"
  },
  {
   "metadata": {},
   "cell_type": "markdown",
   "source": "",
   "id": "e9b2611ee1d6c782"
  }
 ],
 "metadata": {
  "kernelspec": {
   "display_name": "Python 3",
   "language": "python",
   "name": "python3"
  },
  "language_info": {
   "codemirror_mode": {
    "name": "ipython",
    "version": 2
   },
   "file_extension": ".py",
   "mimetype": "text/x-python",
   "name": "python",
   "nbconvert_exporter": "python",
   "pygments_lexer": "ipython2",
   "version": "2.7.6"
  }
 },
 "nbformat": 4,
 "nbformat_minor": 5
}
