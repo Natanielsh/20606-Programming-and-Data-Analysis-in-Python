{
 "cells": [
  {
   "metadata": {},
   "cell_type": "markdown",
   "source": [
    "שאלה 2\n",
    "עבור כל אחד מהסעיפים שלהלן, בנו מחרוזת s שהדפסתה תציג את הנדרש.\n",
    "\n",
    "סעיף א\n",
    "היעזרו בתווים המיוחדים \\n ו־t\\.\n",
    "\n",
    "*\n",
    "\t*\n",
    "\t\t*"
   ],
   "id": "aeee921bfa74eac5"
  },
  {
   "metadata": {
    "ExecuteTime": {
     "end_time": "2025-03-08T09:34:57.633161Z",
     "start_time": "2025-03-08T09:34:57.630275Z"
    }
   },
   "cell_type": "code",
   "source": [
    "s = \"*\\n\\t*\\n\\t\\t*\"\n",
    "print(s)"
   ],
   "id": "a822a3eb9777728f",
   "outputs": [
    {
     "name": "stdout",
     "output_type": "stream",
     "text": [
      "*\n",
      "\t*\n",
      "\t\t*\n"
     ]
    }
   ],
   "execution_count": 1
  },
  {
   "metadata": {},
   "cell_type": "markdown",
   "source": [
    "סעיף ב\n",
    "היעזרו בתווים המיוחדים \\n ו־\\\".\n",
    "\n",
    "\"Hello, what is your name?\"\n",
    "\"My name is Fred\""
   ],
   "id": "1406de21f6d7808b"
  },
  {
   "metadata": {
    "ExecuteTime": {
     "end_time": "2025-03-08T09:37:48.507779Z",
     "start_time": "2025-03-08T09:37:48.501493Z"
    }
   },
   "cell_type": "code",
   "source": [
    "s = \"\\\"Hello, what is your name?\\\"\\n\\\"My name is Fred\\\"\"\n",
    "print(s)"
   ],
   "id": "4f3f4312ca0bea88",
   "outputs": [
    {
     "name": "stdout",
     "output_type": "stream",
     "text": [
      "\"Hello, what is your name?\"\n",
      "\"My name is Fred\"\n"
     ]
    }
   ],
   "execution_count": 9
  },
  {
   "metadata": {},
   "cell_type": "markdown",
   "source": [
    "סעיף ג\n",
    "היעזרו בתו המיוחד \\\\.\n",
    "\n",
    "/\\/\\/\\/\\"
   ],
   "id": "96a2579e8dfe3ff3"
  },
  {
   "metadata": {
    "ExecuteTime": {
     "end_time": "2025-03-08T09:39:09.484981Z",
     "start_time": "2025-03-08T09:39:09.479466Z"
    }
   },
   "cell_type": "code",
   "source": [
    "s = \"/\\\\/\\\\/\\\\/\\\\\"\n",
    "print(s)"
   ],
   "id": "136bd0ea0598d7a6",
   "outputs": [
    {
     "name": "stdout",
     "output_type": "stream",
     "text": [
      "/\\/\\/\\/\\\n"
     ]
    }
   ],
   "execution_count": 14
  },
  {
   "metadata": {},
   "cell_type": "markdown",
   "source": [
    "סעיף ד\n",
    "היעזרו בתווים המיוחדים , \\n, \\\\, \\\" ובאות O (אות גדולה)."
   ],
   "id": "a219d64ee309018e"
  },
  {
   "metadata": {},
   "cell_type": "code",
   "outputs": [],
   "execution_count": null,
   "source": [
    "    s = \"(\\\\_/)\\n(O.O)\\n(\\\")(\\\")\"\n",
    "print(s)\n"
   ],
   "id": "3956e859bf438b0f"
  }
 ],
 "metadata": {
  "kernelspec": {
   "display_name": "Python 3",
   "language": "python",
   "name": "python3"
  },
  "language_info": {
   "codemirror_mode": {
    "name": "ipython",
    "version": 2
   },
   "file_extension": ".py",
   "mimetype": "text/x-python",
   "name": "python",
   "nbconvert_exporter": "python",
   "pygments_lexer": "ipython2",
   "version": "2.7.6"
  }
 },
 "nbformat": 4,
 "nbformat_minor": 5
}
