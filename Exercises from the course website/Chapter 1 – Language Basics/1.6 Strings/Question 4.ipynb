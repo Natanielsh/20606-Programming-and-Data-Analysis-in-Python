{
 "cells": [
  {
   "metadata": {},
   "cell_type": "markdown",
   "source": [
    "שאלה 4\n",
    "נתונים המשתנים שלהלן:\n",
    "עבור כל אחד מהסעיפים שלהלן, בנו מחרוזת בשם s מסוג F-string שהדפסתה תציג את הנדרש. היעזרו במשתנים שהוגדרו לעיל."
   ],
   "id": "82886e917ad755ec"
  },
  {
   "metadata": {
    "ExecuteTime": {
     "end_time": "2025-03-08T09:47:39.286030Z",
     "start_time": "2025-03-08T09:47:39.280299Z"
    }
   },
   "cell_type": "code",
   "source": [
    "x = 5\n",
    "y = 3\n",
    "month = 'July'\n",
    "temp = 37\n",
    "origin = 'New York'\n",
    "destination = 'Israel'\n",
    "cost = 585\n",
    "num = '1'\n",
    "# 5 + 3 = 8\n",
    "s = f\"{x} + {y} = {x + y}\"\n",
    "print(s)"
   ],
   "id": "8d6c139c314a0e4d",
   "outputs": [
    {
     "name": "stdout",
     "output_type": "stream",
     "text": [
      "5 + 3 = 8\n"
     ]
    }
   ],
   "execution_count": 2
  },
  {
   "metadata": {
    "ExecuteTime": {
     "end_time": "2025-03-08T09:48:03.998767Z",
     "start_time": "2025-03-08T09:48:03.993537Z"
    }
   },
   "cell_type": "code",
   "source": [
    "x = 5\n",
    "y = 3\n",
    "month = 'July'\n",
    "temp = 37\n",
    "origin = 'New York'\n",
    "destination = 'Israel'\n",
    "cost = 585\n",
    "num = '1'\n",
    "# The average temperature in July is 37 degrees.\n",
    "s = f\"The average temperature in {month} is {temp} degrees.\"\n",
    "print(s)"
   ],
   "id": "8c536f02cb89252e",
   "outputs": [
    {
     "name": "stdout",
     "output_type": "stream",
     "text": [
      "The average temperature in July is 37 degrees.\n"
     ]
    }
   ],
   "execution_count": 3
  },
  {
   "metadata": {
    "ExecuteTime": {
     "end_time": "2025-03-08T09:48:27.479550Z",
     "start_time": "2025-03-08T09:48:27.475834Z"
    }
   },
   "cell_type": "code",
   "source": [
    "x = 5\n",
    "y = 3\n",
    "month = 'July'\n",
    "temp = 37\n",
    "origin = 'New York'\n",
    "destination = 'Israel'\n",
    "cost = 585\n",
    "num = '1'\n",
    "# A flight from New York to Israel will cost 585$\n",
    "s = f\"A flight from {origin} to {destination} will cost {cost}$\"\n",
    "print(s)"
   ],
   "id": "8980ddb9eb57cd36",
   "outputs": [
    {
     "name": "stdout",
     "output_type": "stream",
     "text": [
      "A flight from New York to Israel will cost 585$\n"
     ]
    }
   ],
   "execution_count": 4
  },
  {
   "metadata": {
    "ExecuteTime": {
     "end_time": "2025-03-08T09:48:46.348283Z",
     "start_time": "2025-03-08T09:48:46.336477Z"
    }
   },
   "cell_type": "code",
   "source": [
    "x = 5\n",
    "y = 3\n",
    "month = 'July'\n",
    "temp = 37\n",
    "origin = 'New York'\n",
    "destination = 'Israel'\n",
    "cost = 585\n",
    "num = '1'\n",
    "# 1 plus 1 equals 2\n",
    "s = f\"{num} plus {num} equals {int(num) + int(num)}\"\n",
    "print(s)"
   ],
   "id": "793a5b028e3873c",
   "outputs": [
    {
     "name": "stdout",
     "output_type": "stream",
     "text": [
      "1 plus 1 equals 2\n"
     ]
    }
   ],
   "execution_count": 5
  }
 ],
 "metadata": {
  "kernelspec": {
   "display_name": "Python 3",
   "language": "python",
   "name": "python3"
  },
  "language_info": {
   "codemirror_mode": {
    "name": "ipython",
    "version": 2
   },
   "file_extension": ".py",
   "mimetype": "text/x-python",
   "name": "python",
   "nbconvert_exporter": "python",
   "pygments_lexer": "ipython2",
   "version": "2.7.6"
  }
 },
 "nbformat": 4,
 "nbformat_minor": 5
}
