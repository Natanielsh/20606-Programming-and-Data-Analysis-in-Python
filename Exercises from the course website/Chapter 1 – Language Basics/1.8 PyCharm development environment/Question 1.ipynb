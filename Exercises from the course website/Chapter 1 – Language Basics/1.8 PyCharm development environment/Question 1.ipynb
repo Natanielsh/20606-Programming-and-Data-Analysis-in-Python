{
 "cells": [
  {
   "metadata": {},
   "cell_type": "markdown",
   "source": [
    "סעיף א\n",
    "פתחו פרויקט חדש בסביבת PyCharm, וכתבו בו תוכנית המציבה למשתנה בשם x את הערך 1764, מוסיפה לו את הערך 9852, ולבסוף מדפיסה את סכום הערכים. הריצו את התוכנית. מהי ההדפסה שמתקבלת?"
   ],
   "id": "20993f56bd7c9492"
  },
  {
   "cell_type": "code",
   "id": "initial_id",
   "metadata": {
    "collapsed": true,
    "ExecuteTime": {
     "end_time": "2025-03-08T12:56:42.674104Z",
     "start_time": "2025-03-08T12:56:42.666315Z"
    }
   },
   "source": [
    "x = 1764\n",
    "x =x +9852\n",
    "print(x)"
   ],
   "outputs": [
    {
     "name": "stdout",
     "output_type": "stream",
     "text": [
      "11616\n"
     ]
    }
   ],
   "execution_count": 1
  },
  {
   "metadata": {},
   "cell_type": "markdown",
   "source": "כתבו תוכנית המציבה למשתנה בשם s את המחרוזת “sun”. הכפילו את s בערך 3 והדפיסו את התוצאה. הריצו את התוכנית. מהי ההדפסה שמתקבלת?",
   "id": "ab189ee24dafbb51"
  },
  {
   "metadata": {
    "ExecuteTime": {
     "end_time": "2025-03-08T12:57:39.470047Z",
     "start_time": "2025-03-08T12:57:39.454432Z"
    }
   },
   "cell_type": "code",
   "source": [
    "s= \"sun\"\n",
    "print(s*3)"
   ],
   "id": "ececa97a511150e",
   "outputs": [
    {
     "name": "stdout",
     "output_type": "stream",
     "text": [
      "sunsunsun\n"
     ]
    }
   ],
   "execution_count": 2
  },
  {
   "metadata": {},
   "cell_type": "markdown",
   "source": [
    "בהינתן מחרוזת כלשהי s, הפקודה s[::-1] תחזיר את המחרוזת s מהסוף להתחלה.\n",
    "דוגמה: בהינתן המחרוזת s = “abcd”, הפקודה s[::-1] תחזיר את המחרוזת “dcba”.\n",
    "כתבו תוכנית המציבה למשתנה בשם s את המחרוזת “python”. הציבו למשתנה בשם reverse את המחרוזת s מהסוף להתחלה. הריצו את התוכנית. מהי ההדפסה שמתקבלת?"
   ],
   "id": "19f5951a88158971"
  },
  {
   "metadata": {
    "ExecuteTime": {
     "end_time": "2025-03-08T12:59:23.191487Z",
     "start_time": "2025-03-08T12:59:23.182768Z"
    }
   },
   "cell_type": "code",
   "source": [
    "s = \" python\"\n",
    "reverse = s[::-1]\n",
    "print(reverse)"
   ],
   "id": "d45c255b5f4f9cf",
   "outputs": [
    {
     "name": "stdout",
     "output_type": "stream",
     "text": [
      "nohtyp \n"
     ]
    }
   ],
   "execution_count": 4
  },
  {
   "metadata": {},
   "cell_type": "markdown",
   "source": [
    "סעיף ד\n",
    "בהינתן מחרוזת כלשהי s, הפקודה s[::2] תחזיר מחרוזת המורכבת מתווי המחרוזת s הנמצאים במקומות (באינדקסים) הזוגיים בלבד. דוגמה: בהינתן המחרוזת s = “abcd”, הפקודה s[::2] תחזיר את המחרוזת “ac”.\n",
    "כתבו תוכנית המציבה למשתנה בשם s את המחרוזת “haaxpyppyz”. הציבו למשתנה בשם even את המחרוזת המתקבלת מהתווים הזוגיים של המחרוזת s. הריצו את התוכנית. מהי ההדפסה שמתקבלת?"
   ],
   "id": "5d4b59d7360fa87f"
  },
  {
   "metadata": {
    "ExecuteTime": {
     "end_time": "2025-03-08T13:23:21.436143Z",
     "start_time": "2025-03-08T13:23:21.425086Z"
    }
   },
   "cell_type": "code",
   "source": [
    "s = \"haaxpyppyz\"\n",
    "even = s[::2]\n",
    "print(even)"
   ],
   "id": "d287fa1dc34b6da1",
   "outputs": [
    {
     "name": "stdout",
     "output_type": "stream",
     "text": [
      "happy\n"
     ]
    }
   ],
   "execution_count": 5
  }
 ],
 "metadata": {
  "kernelspec": {
   "display_name": "Python 3",
   "language": "python",
   "name": "python3"
  },
  "language_info": {
   "codemirror_mode": {
    "name": "ipython",
    "version": 2
   },
   "file_extension": ".py",
   "mimetype": "text/x-python",
   "name": "python",
   "nbconvert_exporter": "python",
   "pygments_lexer": "ipython2",
   "version": "2.7.6"
  }
 },
 "nbformat": 4,
 "nbformat_minor": 5
}
