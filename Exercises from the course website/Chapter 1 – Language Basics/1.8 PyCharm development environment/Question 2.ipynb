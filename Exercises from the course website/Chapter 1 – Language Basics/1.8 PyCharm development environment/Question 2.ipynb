{
 "cells": [
  {
   "metadata": {},
   "cell_type": "raw",
   "source": [
    "שאלה 2\n",
    "סעיף א\n",
    "\n",
    "העתיקו את התוכנית שלהלן לסביבת PyCharm.\n",
    "x = 10               #1\n",
    "y = x + 1            #2\n",
    "x = x * 2            #3\n",
    "y = y / 2            #4\n",
    "הוסיפו נקודת עצירה (break point) בשורה 2, והריצו את התוכנית במצב debug.\n"
   ],
   "id": "446899f5ef18c419"
  },
  {
   "metadata": {
    "ExecuteTime": {
     "end_time": "2025-03-08T13:27:28.668952Z",
     "start_time": "2025-03-08T13:27:28.659956Z"
    }
   },
   "cell_type": "code",
   "source": [
    "\n",
    "x = 10               #1\n",
    "y = x + 1            #2\n",
    "print(x,y)\n",
    "x = x * 2            #3\n",
    "print(x,y)\n",
    "y = y / 2            #4\n",
    "print(x,y)"
   ],
   "id": "6ead76937a44c626",
   "outputs": [
    {
     "name": "stdout",
     "output_type": "stream",
     "text": [
      "10 11\n",
      "20 11\n",
      "20 5.5\n"
     ]
    }
   ],
   "execution_count": 2
  },
  {
   "metadata": {},
   "cell_type": "markdown",
   "source": [
    "סעיף ב\n",
    "\n",
    "העתיקו את התוכנית שלהלן לסביבת PyCharm.\n",
    "first = int(input(\"Enter first number\"))         #1\n",
    "second = int(input(\"Enter second number\"))       #2\n",
    "first = first % 100                              #3\n",
    "second = second // 100                           #4\n",
    "first ** 3                                       #5\n",
    "first = first - 1                                #6\n",
    "second = second - first                          #7\n",
    "הוסיפו נקודת עצירה (break point) בשורה 5, והריצו את התוכנית במצב debug. הקלט עבור first יהיה הערך 1234 והקלט עבור second יהיה הערך 12345.\n"
   ],
   "id": "47a15e54cd2a9523"
  },
  {
   "metadata": {
    "ExecuteTime": {
     "end_time": "2025-03-08T13:28:43.778279Z",
     "start_time": "2025-03-08T13:28:35.849928Z"
    }
   },
   "cell_type": "code",
   "source": [
    "first = int(input(\"Enter first number\"))         #1\n",
    "second = int(input(\"Enter second number\"))       #2\n",
    "first = first % 100                              #3\n",
    "second = second // 100                           #4\n",
    "print(first,second)\n",
    "first ** 3                                       #5\n",
    "print(first,second)\n",
    "first = first - 1                                #6\n",
    "print(first,second)\n",
    "second = second - first                          #7\n",
    "print(first,second)"
   ],
   "id": "2791c84cbf88c6a5",
   "outputs": [
    {
     "name": "stdout",
     "output_type": "stream",
     "text": [
      "34 123\n",
      "34 123\n",
      "33 123\n",
      "33 90\n"
     ]
    }
   ],
   "execution_count": 3
  },
  {
   "metadata": {},
   "cell_type": "markdown",
   "source": [
    "סעיף ג\n",
    "\n",
    "העתיקו את התוכנית שלהלן לסביבת PyCharm.\n",
    "x,y = \"sky\", \"cloud\"     #1\n",
    "x,y = y,x                #2\n",
    "x = (x + y) * 2          #3\n",
    "x = x[5]                 #4\n",
    "הוסיפו נקודת עצירה (break point) בשורה 3, והריצו את התוכנית במצב debug."
   ],
   "id": "c697419512c7e46"
  },
  {
   "metadata": {
    "ExecuteTime": {
     "end_time": "2025-03-08T13:29:29.228581Z",
     "start_time": "2025-03-08T13:29:29.219010Z"
    }
   },
   "cell_type": "code",
   "source": [
    "x,y = \"sky\", \"cloud\"     #1\n",
    "x,y = y,x                #2\n",
    "print(x,y)\n",
    "x = (x + y) * 2          #3\n",
    "print(x,y)\n",
    "x = x[5]                 #4\n",
    "print(x,y)"
   ],
   "id": "2896b1f9b6d9df69",
   "outputs": [
    {
     "name": "stdout",
     "output_type": "stream",
     "text": [
      "cloud sky\n",
      "cloudskycloudsky sky\n",
      "s sky\n"
     ]
    }
   ],
   "execution_count": 4
  },
  {
   "metadata": {
    "ExecuteTime": {
     "end_time": "2025-03-08T13:37:18.653559Z",
     "start_time": "2025-03-08T13:37:18.642409Z"
    }
   },
   "cell_type": "code",
   "source": "print('\"Hello\"\\n\\t\"Hi\"\\n\\'?\\'\\n\\\\')\n",
   "id": "2d293a4fb69f261e",
   "outputs": [
    {
     "name": "stdout",
     "output_type": "stream",
     "text": [
      "\"Hello\"\n",
      "\t\"Hi\"\n",
      "'?'\n",
      "\\\n"
     ]
    }
   ],
   "execution_count": 5
  }
 ],
 "metadata": {
  "kernelspec": {
   "display_name": "Python 3",
   "language": "python",
   "name": "python3"
  },
  "language_info": {
   "codemirror_mode": {
    "name": "ipython",
    "version": 2
   },
   "file_extension": ".py",
   "mimetype": "text/x-python",
   "name": "python",
   "nbconvert_exporter": "python",
   "pygments_lexer": "ipython2",
   "version": "2.7.6"
  }
 },
 "nbformat": 4,
 "nbformat_minor": 5
}
